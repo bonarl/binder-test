{
 "cells": [
  {
   "cell_type": "markdown",
   "metadata": {},
   "source": [
    "## Importing libraries (useful things we'll use in the code later)"
   ]
  },
  {
   "cell_type": "code",
   "execution_count": 1,
   "metadata": {},
   "outputs": [],
   "source": [
    "%matplotlib inline\n",
    "from matplotlib import pyplot as plt\n",
    "import numpy as np\n",
    "from scipy.integrate import solve_ivp"
   ]
  },
  {
   "cell_type": "markdown",
   "metadata": {},
   "source": [
    "## Setting up the data for our simulation"
   ]
  },
  {
   "cell_type": "code",
   "execution_count": 30,
   "metadata": {
    "scrolled": true
   },
   "outputs": [],
   "source": [
    "#Physical constants\n",
    "g = 9.81                 #acceleration due to gravity         m/s^2\n",
    "\n",
    "#Rocket parameters\n",
    "Cd = 100                 #coefficient of drag  \n",
    "A = 1                    #cross sectional area                m^2\n",
    "F = 6.7e6                #thrust (Rocketdyne F-1 engine)      N\n",
    "mdF1 = 2600              #mass flow rate of F-1 engine        kg/s\n",
    "m_dry = 10000            #dry-mass                            kg\n",
    "m_fuel = 10000           #mass of fuel                        kg \n",
    "m_wet = m_dry+m_fuel     #wet-mass                            kg\n",
    "\n"
   ]
  },
  {
   "cell_type": "markdown",
   "metadata": {},
   "source": [
    "## Atmospheric Model"
   ]
  },
  {
   "cell_type": "code",
   "execution_count": 24,
   "metadata": {},
   "outputs": [
    {
     "data": {
      "image/png": "[encoded data removed]",
      "text/plain": [
       "<Figure size 432x288 with 1 Axes>"
      ]
     },
     "metadata": {
      "needs_background": "light"
     },
     "output_type": "display_data"
    }
   ],
   "source": [
    "#Atmospheric model\n",
    "H = 8500                 #scale height                        m\n",
    "rho0 = 1.225             #air density at sea level            kg/m^3\n",
    "r0 = 6370e3              #Earth's radius                      m\n",
    "\n",
    "#Exponential model of air density as function of radius\n",
    "def rho(r): return rho0*np.exp(-(r-r0)/H)\n",
    "#Plot of air density against altitude\n",
    "hs = np.linspace(0,100,100)\n",
    "rhos = rho(6370e3+hs*1e3)\n",
    "plt.plot(rhos,hs)\n",
    "plt.title(\"Air Density\"),plt.xlabel(\"Density (kg/m^3)\"),plt.ylabel(\"h (km)\")\n",
    "plt.show()"
   ]
  },
  {
   "cell_type": "markdown",
   "metadata": {},
   "source": [
    "## System dynamics - the equations that we want to solve numerically\n",
    "**Don't touch this code**"
   ]
  },
  {
   "cell_type": "code",
   "execution_count": 32,
   "metadata": {
    "scrolled": true
   },
   "outputs": [
    {
     "data": {
      "text/plain": [
       "[325.19, 0, 0.0, 0.0, 2600]"
      ]
     },
     "execution_count": 32,
     "metadata": {},
     "output_type": "execute_result"
    }
   ],
   "source": [
    " #state vector X, function returns dX/dt for given X\n",
    "    #v, velocity \n",
    "    #y, angle between velocity and local vertical\n",
    "    #r&th, Earth centred polar coordinates \n",
    "    #m, mass\n",
    "    \n",
    "def sys_dynamics(t,X):\n",
    "    v,y,r,th,m=X[0:6]\n",
    "    vd = F/m -g*np.cos(y)-1/2*rho(r)*Cd*A*v**2\n",
    "    if v != 0:\n",
    "        yd = (m*g)/v*np.sin(y)\n",
    "    else: \n",
    "        yd = 0\n",
    "    rd = v*np.cos(y)\n",
    "    thd = r*v*np.sin(y)\n",
    "    if m>me:\n",
    "        md = mdF1\n",
    "    else:\n",
    "        md=0\n",
    "\n",
    "    return [vd,yd,rd,thd,md]\n",
    "\n",
    "X0=[0,0,6370e3,0,m_wet]\n",
    "sys_dynamics(0,X0)\n"
   ]
  }
 ],
 "metadata": {
  "kernelspec": {
   "display_name": "Python 3",
   "language": "python",
   "name": "python3"
  },
  "language_info": {
   "codemirror_mode": {
    "name": "ipython",
    "version": 3
   },
   "file_extension": ".py",
   "mimetype": "text/x-python",
   "name": "python",
   "nbconvert_exporter": "python",
   "pygments_lexer": "ipython3",
   "version": "3.7.6"
  }
 },
 "nbformat": 4,
 "nbformat_minor": 4
}
